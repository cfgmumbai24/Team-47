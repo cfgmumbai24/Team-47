{
 "cells": [
  {
   "cell_type": "code",
   "execution_count": 3,
   "metadata": {},
   "outputs": [],
   "source": [
    "import gradio as gr\n",
    "import numpy as np\n",
    "import cv2\n",
    "import tensorflow as tf"
   ]
  },
  {
   "cell_type": "code",
   "execution_count": 4,
   "metadata": {},
   "outputs": [],
   "source": [
    "model = tf.keras.models.load_model('disease_prediction_model.h5')\n"
   ]
  },
  {
   "cell_type": "code",
   "execution_count": null,
   "metadata": {},
   "outputs": [],
   "source": [
    "disease_names = ['Mukhpaka/Boqueira', 'Boleka Rog/Mal do Coroço'] \n",
    "\n",
    "def predict(image):\n",
    "    image = cv2.resize(image, (255, 255))\n",
    "    image = np.expand_dims(image, axis=0)\n",
    "    image = image / 255.0  # Normalize the image\n",
    "    prediction = model.predict(image)\n",
    "    return {disease_names[i]: float(pred) for i, pred in enumerate(prediction[0])}\n",
    "\n",
    "\n",
    "\n",
    "# Create the Gradio interface\n",
    "image_input = gr.Image(type=\"numpy\", label=\"Input Image\")\n",
    "label_output = gr.Label(label=\"Predictions\")"
   ]
  },
  {
   "cell_type": "code",
   "execution_count": null,
   "metadata": {},
   "outputs": [],
   "source": [
    "interface = gr.Interface(fn=predict, inputs=image_input, outputs=label_output, title=\"Disease Prediction\")\n"
   ]
  },
  {
   "cell_type": "code",
   "execution_count": null,
   "metadata": {},
   "outputs": [],
   "source": [
    "interface.launch(share=True)\n"
   ]
  }
 ],
 "metadata": {
  "kernelspec": {
   "display_name": "Python 3",
   "language": "python",
   "name": "python3"
  },
  "language_info": {
   "codemirror_mode": {
    "name": "ipython",
    "version": 3
   },
   "file_extension": ".py",
   "mimetype": "text/x-python",
   "name": "python",
   "nbconvert_exporter": "python",
   "pygments_lexer": "ipython3",
   "version": "3.10.12"
  }
 },
 "nbformat": 4,
 "nbformat_minor": 2
}
